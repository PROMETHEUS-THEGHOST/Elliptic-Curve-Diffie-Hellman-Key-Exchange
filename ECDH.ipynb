{
  "nbformat": 4,
  "nbformat_minor": 0,
  "metadata": {
    "colab": {
      "provenance": [],
      "authorship_tag": "ABX9TyM4RkZRF98QFKIDaT4SU8of",
      "include_colab_link": true
    },
    "kernelspec": {
      "name": "python3",
      "display_name": "Python 3"
    },
    "language_info": {
      "name": "python"
    }
  },
  "cells": [
    {
      "cell_type": "markdown",
      "metadata": {
        "id": "view-in-github",
        "colab_type": "text"
      },
      "source": [
        "<a href=\"https://colab.research.google.com/github/PROMETHEUS-THEGHOST/Elliptic-Curve-Diffie-Hellman-Key-Exchange/blob/main/ECDH.ipynb\" target=\"_parent\"><img src=\"https://colab.research.google.com/assets/colab-badge.svg\" alt=\"Open In Colab\"/></a>"
      ]
    },
    {
      "cell_type": "code",
      "execution_count": 1,
      "metadata": {
        "id": "Wbe6VEhT5oZB"
      },
      "outputs": [],
      "source": [
        "# y^2 = x^3 + a*x + b"
      ]
    },
    {
      "cell_type": "code",
      "source": [
        "def add_points(P, Q, p):\n",
        "    x1, y1 = P\n",
        "    x2, y2 = Q\n",
        "\n",
        "    if x1 == x2 and y1 == y2:\n",
        "        beta = (3*x1*x2 + a) * pow(2*y1, -1, p)\n",
        "    else:\n",
        "        beta = (y2 - y1) * pow(x2 - x1, -1, p)\n",
        "\n",
        "    x3 = (beta*beta - x1 - x2) % p\n",
        "    y3 = (beta * (x1 - x3) - y1) % p\n",
        "\n",
        "    is_on_curve((x3, y3), p)\n",
        "\n",
        "    return x3, y3\n",
        "\n",
        "def is_on_curve(P, p):\n",
        "    x, y = P\n",
        "    assert (y*y) % p == ( pow(x, 3, p) + a*x + b ) % p\n",
        "\n",
        "def apply_double_and_add_method(G, k, p):\n",
        "    target_point = G\n",
        "\n",
        "    k_binary = bin(k)[2:] #0b1111111001\n",
        "\n",
        "    for i in range(1, len(k_binary)):\n",
        "        current_bit = k_binary[i: i+1]\n",
        "\n",
        "        # doubling - always\n",
        "        target_point = add_points(target_point, target_point, p)\n",
        "\n",
        "        if current_bit == \"1\":\n",
        "            target_point = add_points(target_point, G, p)\n",
        "\n",
        "    is_on_curve(target_point, p)\n",
        "\n",
        "    return target_point"
      ],
      "metadata": {
        "id": "TbkqCj8t53xN"
      },
      "execution_count": 3,
      "outputs": []
    },
    {
      "cell_type": "code",
      "source": [
        "# Secp256k1\n",
        "a = 0; b = 7\n",
        "G = (55066263022277343669578718895168534326250603453777594175500187360389116729240,\n",
        "     32670510020758816978083085130507043184471273380659243275938904335757337482424)\n",
        "\n",
        "p = pow(2, 256) - pow(2, 32) - pow(2, 9) - pow(2, 8) - pow(2, 7) - pow(2, 6) - pow(2, 4) - pow(2, 0)\n",
        "n = 115792089237316195423570985008687907852837564279074904382605163141518161494337"
      ],
      "metadata": {
        "id": "P58OjPuy5_wU"
      },
      "execution_count": 4,
      "outputs": []
    },
    {
      "cell_type": "code",
      "source": [
        "is_on_curve(G, p)"
      ],
      "metadata": {
        "id": "Q6lCi6Rd6I_k"
      },
      "execution_count": 5,
      "outputs": []
    },
    {
      "cell_type": "code",
      "source": [
        "\n",
        "import random"
      ],
      "metadata": {
        "id": "Aw_lBTJ86NGX"
      },
      "execution_count": 6,
      "outputs": []
    },
    {
      "cell_type": "code",
      "source": [
        "# Vaisakh private key\n",
        "ka = random.getrandbits(256) #3072\n",
        "\n",
        "# Rithesh private key\n",
        "kb = random.getrandbits(256)"
      ],
      "metadata": {
        "id": "NSvlD_Vn6QrN"
      },
      "execution_count": 7,
      "outputs": []
    },
    {
      "cell_type": "code",
      "source": [
        "# public keys\n",
        "Qa = apply_double_and_add_method(G = G, k = ka, p = p)\n",
        "Qb = apply_double_and_add_method(G = G, k = kb, p = p)"
      ],
      "metadata": {
        "id": "ZJ_WkmF86Vs1"
      },
      "execution_count": 8,
      "outputs": []
    },
    {
      "cell_type": "code",
      "source": [
        "Sa = apply_double_and_add_method(G = Qb, k = ka, p = p)\n",
        "Sb = apply_double_and_add_method(G = Qa, k = kb, p = p)"
      ],
      "metadata": {
        "id": "_cO5EWHh6bRl"
      },
      "execution_count": 9,
      "outputs": []
    },
    {
      "cell_type": "code",
      "source": [
        "Sa"
      ],
      "metadata": {
        "colab": {
          "base_uri": "https://localhost:8080/"
        },
        "id": "ynzefLWv6gkF",
        "outputId": "410316ed-c1ec-403c-edc2-b6f115621739"
      },
      "execution_count": 10,
      "outputs": [
        {
          "output_type": "execute_result",
          "data": {
            "text/plain": [
              "(71358187960031684246684211860614024562594906374163562348319542044552016622665,\n",
              " 76697794363384299772625917648743209758395337577493834183102839324731751772354)"
            ]
          },
          "metadata": {},
          "execution_count": 10
        }
      ]
    },
    {
      "cell_type": "code",
      "source": [
        "Sb"
      ],
      "metadata": {
        "colab": {
          "base_uri": "https://localhost:8080/"
        },
        "id": "CaWdUi5q6wIE",
        "outputId": "bb1651d5-4a6b-4ae0-b187-9112752b4077"
      },
      "execution_count": 11,
      "outputs": [
        {
          "output_type": "execute_result",
          "data": {
            "text/plain": [
              "(71358187960031684246684211860614024562594906374163562348319542044552016622665,\n",
              " 76697794363384299772625917648743209758395337577493834183102839324731751772354)"
            ]
          },
          "metadata": {},
          "execution_count": 11
        }
      ]
    }
  ]
}